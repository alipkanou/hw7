{
 "cells": [
  {
   "cell_type": "code",
   "execution_count": 1,
   "metadata": {},
   "outputs": [],
   "source": [
    "from hdfs import InsecureClient"
   ]
  },
  {
   "cell_type": "code",
   "execution_count": 2,
   "metadata": {},
   "outputs": [],
   "source": [
    "client = InsecureClient('http://namenode:50070', user = 'root')"
   ]
  },
  {
   "cell_type": "code",
   "execution_count": 3,
   "metadata": {},
   "outputs": [
    {
     "data": {
      "text/plain": [
       "[]"
      ]
     },
     "execution_count": 3,
     "metadata": {},
     "output_type": "execute_result"
    }
   ],
   "source": [
    "client.list('/')"
   ]
  },
  {
   "cell_type": "code",
   "execution_count": 4,
   "metadata": {},
   "outputs": [],
   "source": [
    "client.makedirs('/Users')\n",
    "client.makedirs('/Users/vagrant')\n",
    "client.set_owner('/Users/vagrant', owner = 'vagrant', group = 'vagrant')"
   ]
  },
  {
   "cell_type": "code",
   "execution_count": 6,
   "metadata": {},
   "outputs": [
    {
     "data": {
      "text/plain": [
       "['vagrant']"
      ]
     },
     "execution_count": 6,
     "metadata": {},
     "output_type": "execute_result"
    }
   ],
   "source": [
    "client.list('/Users')"
   ]
  },
  {
   "cell_type": "code",
   "execution_count": 7,
   "metadata": {},
   "outputs": [],
   "source": [
    "client = InsecureClient('http://namenode:50070', user = 'vagrant')"
   ]
  },
  {
   "cell_type": "code",
   "execution_count": 8,
   "metadata": {},
   "outputs": [],
   "source": [
    "import os\n",
    "import re\n",
    "import glob"
   ]
  },
  {
   "cell_type": "code",
   "execution_count": 9,
   "metadata": {},
   "outputs": [],
   "source": [
    "PATH_TO_CWL_DATA = '/home/vagrant/work/week6/cwl-data/data/structured/'\n",
    "\n",
    "EVENTS = ['structured-2018-01-14-neworleans/', 'structured-2018-08-19-champs/',\n",
    "         'structured-2018-07-29-prokeague2/', 'structured-2018-06-17-anaheim/', \n",
    "         'structured-2018-04-22-seattle/', 'structured-2018-04-19-relegation/',\n",
    "         'structured-2018-04-08-proleague1/', 'structured-2018-04-01-birmingham/',\n",
    "         'structured-2018-03-11-atlanta/']"
   ]
  },
  {
   "cell_type": "code",
   "execution_count": 21,
   "metadata": {},
   "outputs": [],
   "source": [
    "for EVENT in EVENTS:\n",
    "    path = PATH_TO_CWL_DATA + EVENT + EVENT + \"*.json\"\n",
    "    for filename in glob.glob(path):\n",
    "        MATCH = filename\n",
    "        localpath = MATCH\n",
    "        onlinepath = '/Users/vagrant/' + filename.rsplit('/',2)[1] + '/' + filename.rsplit('/',2)[2]\n",
    "        client.upload(onlinepath, localpath)\n",
    "    path = PATH_TO_CWL_DATA + EVENT + EVENT + \"*.png\"\n",
    "    for filename in glob.glob(path):\n",
    "        MATCH = filename\n",
    "        localpath = MATCH\n",
    "        onlinepath = '/Users/vagrant/' + filename.rsplit('/',2)[1] + '/' + filename.rsplit('/',2)[2]\n",
    "        client.upload(onlinepath, localpath)"
   ]
  },
  {
   "cell_type": "code",
   "execution_count": 22,
   "metadata": {},
   "outputs": [
    {
     "data": {
      "text/plain": [
       "['structured-2018-01-14-neworleans',\n",
       " 'structured-2018-03-11-atlanta',\n",
       " 'structured-2018-04-01-birmingham',\n",
       " 'structured-2018-04-08-proleague1',\n",
       " 'structured-2018-04-19-relegation',\n",
       " 'structured-2018-04-22-seattle',\n",
       " 'structured-2018-06-17-anaheim',\n",
       " 'structured-2018-08-19-champs']"
      ]
     },
     "execution_count": 22,
     "metadata": {},
     "output_type": "execute_result"
    }
   ],
   "source": [
    "client.list('/Users/vagrant/')"
   ]
  },
  {
   "cell_type": "code",
   "execution_count": null,
   "metadata": {},
   "outputs": [],
   "source": []
  }
 ],
 "metadata": {
  "kernelspec": {
   "display_name": "Python 3",
   "language": "python",
   "name": "python3"
  },
  "language_info": {
   "codemirror_mode": {
    "name": "ipython",
    "version": 3
   },
   "file_extension": ".py",
   "mimetype": "text/x-python",
   "name": "python",
   "nbconvert_exporter": "python",
   "pygments_lexer": "ipython3",
   "version": "3.7.2"
  }
 },
 "nbformat": 4,
 "nbformat_minor": 2
}
