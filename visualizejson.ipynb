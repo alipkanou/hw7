{
 "cells": [
  {
   "cell_type": "markdown",
   "metadata": {},
   "source": [
    "The purpose of this notetbook is to demonstrate how one might plot match events onto a relevant map image."
   ]
  },
  {
   "cell_type": "code",
   "execution_count": 1,
   "metadata": {},
   "outputs": [],
   "source": [
    "import sys\n",
    "sys.path += ['../..']\n",
    "\n",
    "import os\n",
    "import re\n",
    "import glob\n",
    "\n",
    "import tarfile\n",
    "import json\n",
    "\n",
    "import matplotlib.pyplot as plt\n",
    "import matplotlib\n",
    "\n",
    "matplotlib.use('Agg')"
   ]
  },
  {
   "cell_type": "code",
   "execution_count": 2,
   "metadata": {},
   "outputs": [],
   "source": [
    "PATH_TO_CWL_DATA = '/home/vagrant/work/week6/cwl-data/data/structured/'\n",
    "\n",
    "EVENTS = ['structured-2018-01-14-neworleans/', 'structured-2018-08-19-champs/',\n",
    "         'structured-2018-07-29-prokeague2/', 'structured-2018-06-17-anaheim/', \n",
    "         'structured-2018-04-22-seattle/', 'structured-2018-04-19-relegation/',\n",
    "         'structured-2018-04-08-proleague1/', 'structured-2018-04-01-birmingham/',\n",
    "         'structured-2018-03-11-atlanta/']\n",
    "MATCH = 'structured-1529096957-f0a65936-4932-5c7c-a1b5-3a294762b2da.json'\n",
    "\n",
    "PATH_TO_WW2_MAPS = '/home/vagrant/work/week6/cwl-data/maps/ww2/'\n",
    "\n",
    "MAP_IMAGES = {\n",
    "    'Aachen': 'aachen.png',\n",
    "    'Ardennes Forest': 'ardennes_forest.png',\n",
    "    'Flak Tower': 'flaktower.png',\n",
    "    'Gibraltar': 'gibraltar.png',\n",
    "    'London Docks': 'london_docks.png',\n",
    "    'Sainte Marie du Mont': 'sainte_marie_du_mont.png' ,\n",
    "    'USS Texas': 'uss_texas.png',\n",
    "    'Valkyrie': 'valkyrie.png'\n",
    "}"
   ]
  },
  {
   "cell_type": "code",
   "execution_count": null,
   "metadata": {},
   "outputs": [
    {
     "name": "stderr",
     "output_type": "stream",
     "text": [
      "/home/vagrant/miniconda3/envs/py37/lib/python3.7/site-packages/matplotlib/pyplot.py:514: RuntimeWarning: More than 20 figures have been opened. Figures created through the pyplot interface (`matplotlib.pyplot.figure`) are retained until explicitly closed and may consume too much memory. (To control this warning, see the rcParam `figure.max_open_warning`).\n",
      "  max_open_warning, RuntimeWarning)\n"
     ]
    }
   ],
   "source": [
    "# load match data and plot match events\n",
    "for EVENT in EVENTS:\n",
    "    path = PATH_TO_CWL_DATA + EVENT + EVENT + \"*.json\"\n",
    "    for filename in glob.glob(path):\n",
    "        MATCH = filename\n",
    "        with open('{}'.format(MATCH), 'r') as match_file:\n",
    "            # get match data\n",
    "            match = json.load(match_file)\n",
    "\n",
    "            death_pos, spawn_pos = {'x': [], 'y': []}, {'x': [], 'y': []}\n",
    "\n",
    "            # get pos data\n",
    "            events = match['events']\n",
    "            for evt in events:\n",
    "                if evt['type'] == 'spawn':\n",
    "                    spawn_pos['x'].append( evt['data']['pos']['x'] )\n",
    "                    spawn_pos['y'].append( evt['data']['pos']['y'] )\n",
    "                if evt['type'] == 'death':\n",
    "                    death_pos['x'].append( evt['data']['pos']['x'] )\n",
    "                    death_pos['y'].append( evt['data']['pos']['y'] )\n",
    "\n",
    "            # get map image\n",
    "            map_file_name = PATH_TO_WW2_MAPS + MAP_IMAGES[match['map']]\n",
    "            map_image = plt.imread(map_file_name)\n",
    "\n",
    "            # create figure\n",
    "            fig, ax = plt.subplots(1,1)\n",
    "            fig.set_figheight(15)\n",
    "            fig.set_figwidth(15)\n",
    "            # plot map\n",
    "            ax.imshow(map_image)\n",
    "            ax.set_facecolor((210/255.0, 210/255.0, 210/255.0))\n",
    "            # plot spawns\n",
    "            ax.scatter(spawn_pos['x'], spawn_pos['y'], color='cyan')\n",
    "            # plot death events\n",
    "            ax.scatter(death_pos['x'], death_pos['y'], color='red')\n",
    "            # set title\n",
    "            ax.set_title('{} ({})'.format(match['map'], match['mode']))\n",
    "            MATCH = MATCH[:-5]\n",
    "            plt.savefig(MATCH + '.png')"
   ]
  },
  {
   "cell_type": "code",
   "execution_count": 1,
   "metadata": {},
   "outputs": [
    {
     "ename": "NameError",
     "evalue": "name 'glob' is not defined",
     "output_type": "error",
     "traceback": [
      "\u001b[0;31m---------------------------------------------------------------------------\u001b[0m",
      "\u001b[0;31mNameError\u001b[0m                                 Traceback (most recent call last)",
      "\u001b[0;32m<ipython-input-1-ca2b4336761f>\u001b[0m in \u001b[0;36m<module>\u001b[0;34m\u001b[0m\n\u001b[0;32m----> 1\u001b[0;31m \u001b[0mglob\u001b[0m\u001b[0;34m.\u001b[0m\u001b[0mglob\u001b[0m\u001b[0;34m(\u001b[0m\u001b[0mpath\u001b[0m\u001b[0;34m)\u001b[0m\u001b[0;34m\u001b[0m\u001b[0;34m\u001b[0m\u001b[0m\n\u001b[0m",
      "\u001b[0;31mNameError\u001b[0m: name 'glob' is not defined"
     ]
    }
   ],
   "source": [
    "glob.glob(path)"
   ]
  },
  {
   "cell_type": "code",
   "execution_count": 51,
   "metadata": {},
   "outputs": [
    {
     "data": {
      "text/plain": [
       "'/home/vagrant/work/week6/cwl-data/data/structured/structured-2018-06-17-anaheim/structured-2018-06-17-anaheim/*.json'"
      ]
     },
     "execution_count": 51,
     "metadata": {},
     "output_type": "execute_result"
    }
   ],
   "source": [
    "path"
   ]
  },
  {
   "cell_type": "code",
   "execution_count": 30,
   "metadata": {},
   "outputs": [
    {
     "data": {
      "text/plain": [
       "'/home/vagrant/work/week6/cwl-data/research'"
      ]
     },
     "execution_count": 30,
     "metadata": {},
     "output_type": "execute_result"
    }
   ],
   "source": [
    "os.getcwd()"
   ]
  },
  {
   "cell_type": "code",
   "execution_count": 54,
   "metadata": {},
   "outputs": [
    {
     "data": {
      "text/plain": [
       "'/home/vagrant/work/week6/cwl-data/data/structured/structured-2018-06-17-anaheim/structured-2018-06-17-anaheim/structured-1529218045-2f709d64-972d-5399-ab55-229ede8d427c.json'"
      ]
     },
     "execution_count": 54,
     "metadata": {},
     "output_type": "execute_result"
    }
   ],
   "source": [
    "MATCH"
   ]
  },
  {
   "cell_type": "code",
   "execution_count": null,
   "metadata": {},
   "outputs": [],
   "source": []
  }
 ],
 "metadata": {
  "kernelspec": {
   "display_name": "Python 3",
   "language": "python",
   "name": "python3"
  },
  "language_info": {
   "codemirror_mode": {
    "name": "ipython",
    "version": 3
   },
   "file_extension": ".py",
   "mimetype": "text/x-python",
   "name": "python",
   "nbconvert_exporter": "python",
   "pygments_lexer": "ipython3",
   "version": "3.7.2"
  }
 },
 "nbformat": 4,
 "nbformat_minor": 2
}
